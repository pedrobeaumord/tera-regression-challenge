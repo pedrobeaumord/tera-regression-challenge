{
 "cells": [
  {
   "cell_type": "markdown",
   "metadata": {},
   "source": [
    "# Regressão Linear para Validação"
   ]
  },
  {
   "cell_type": "code",
   "execution_count": 59,
   "metadata": {},
   "outputs": [],
   "source": [
    "import pandas as pd\n",
    "import numpy as np\n",
    "import matplotlib.pyplot as plt\n",
    "import seaborn as sns\n",
    "import statsmodels.formula.api as smf\n",
    "from sklearn import linear_model\n",
    "from sklearn.metrics import r2_score, mean_squared_error"
   ]
  },
  {
   "cell_type": "code",
   "execution_count": 60,
   "metadata": {},
   "outputs": [],
   "source": [
    "pd.set_option('display.max_columns', 500)"
   ]
  },
  {
   "cell_type": "code",
   "execution_count": 61,
   "metadata": {},
   "outputs": [],
   "source": [
    "df = pd.read_csv('../data/intermediate/dataset_regression_challenge_processed.csv', sep=';',decimal=',')\n",
    "\n",
    "df = df[df.CondicaoVenda == 'Normal'].copy()"
   ]
  },
  {
   "cell_type": "markdown",
   "metadata": {},
   "source": [
    "### Teste de Correlação\n",
    "Utilizado para definir as melhores métricas a serem utilizadas no modelo"
   ]
  },
  {
   "cell_type": "code",
   "execution_count": 62,
   "metadata": {},
   "outputs": [
    {
     "data": {
      "text/html": [
       "<div>\n",
       "<style scoped>\n",
       "    .dataframe tbody tr th:only-of-type {\n",
       "        vertical-align: middle;\n",
       "    }\n",
       "\n",
       "    .dataframe tbody tr th {\n",
       "        vertical-align: top;\n",
       "    }\n",
       "\n",
       "    .dataframe thead th {\n",
       "        text-align: right;\n",
       "    }\n",
       "</style>\n",
       "<table border=\"1\" class=\"dataframe\">\n",
       "  <thead>\n",
       "    <tr style=\"text-align: right;\">\n",
       "      <th></th>\n",
       "      <th>PrecoVenda</th>\n",
       "    </tr>\n",
       "  </thead>\n",
       "  <tbody>\n",
       "    <tr>\n",
       "      <th>Qualidade</th>\n",
       "      <td>0.786850</td>\n",
       "    </tr>\n",
       "    <tr>\n",
       "      <th>AreaPorao</th>\n",
       "      <td>0.628819</td>\n",
       "    </tr>\n",
       "    <tr>\n",
       "      <th>AreaTerreo</th>\n",
       "      <td>0.610918</td>\n",
       "    </tr>\n",
       "    <tr>\n",
       "      <th>AreaConstruida</th>\n",
       "      <td>0.744517</td>\n",
       "    </tr>\n",
       "    <tr>\n",
       "      <th>CarrosGaragem</th>\n",
       "      <td>0.626678</td>\n",
       "    </tr>\n",
       "    <tr>\n",
       "      <th>AreaGaragem</th>\n",
       "      <td>0.608056</td>\n",
       "    </tr>\n",
       "    <tr>\n",
       "      <th>PrecoVenda</th>\n",
       "      <td>1.000000</td>\n",
       "    </tr>\n",
       "  </tbody>\n",
       "</table>\n",
       "</div>"
      ],
      "text/plain": [
       "                PrecoVenda\n",
       "Qualidade         0.786850\n",
       "AreaPorao         0.628819\n",
       "AreaTerreo        0.610918\n",
       "AreaConstruida    0.744517\n",
       "CarrosGaragem     0.626678\n",
       "AreaGaragem       0.608056\n",
       "PrecoVenda        1.000000"
      ]
     },
     "execution_count": 62,
     "metadata": {},
     "output_type": "execute_result"
    }
   ],
   "source": [
    "# Identificando variáveis com maiores correlações\n",
    "df_corr = df.corr()\n",
    "df_corr = pd.DataFrame(df_corr['PrecoVenda'])\n",
    "df_corr = df_corr[df_corr['PrecoVenda']>0.6]\n",
    "\n",
    "df_corr"
   ]
  },
  {
   "cell_type": "markdown",
   "metadata": {},
   "source": [
    "Criando dummies para verificar se surgem novas métricas"
   ]
  },
  {
   "cell_type": "code",
   "execution_count": 63,
   "metadata": {},
   "outputs": [
    {
     "data": {
      "text/html": [
       "<div>\n",
       "<style scoped>\n",
       "    .dataframe tbody tr th:only-of-type {\n",
       "        vertical-align: middle;\n",
       "    }\n",
       "\n",
       "    .dataframe tbody tr th {\n",
       "        vertical-align: top;\n",
       "    }\n",
       "\n",
       "    .dataframe thead th {\n",
       "        text-align: right;\n",
       "    }\n",
       "</style>\n",
       "<table border=\"1\" class=\"dataframe\">\n",
       "  <thead>\n",
       "    <tr style=\"text-align: right;\">\n",
       "      <th></th>\n",
       "      <th>PrecoVenda</th>\n",
       "    </tr>\n",
       "  </thead>\n",
       "  <tbody>\n",
       "    <tr>\n",
       "      <th>Qualidade</th>\n",
       "      <td>0.786850</td>\n",
       "    </tr>\n",
       "    <tr>\n",
       "      <th>AreaPorao</th>\n",
       "      <td>0.628819</td>\n",
       "    </tr>\n",
       "    <tr>\n",
       "      <th>AreaTerreo</th>\n",
       "      <td>0.610918</td>\n",
       "    </tr>\n",
       "    <tr>\n",
       "      <th>AreaConstruida</th>\n",
       "      <td>0.744517</td>\n",
       "    </tr>\n",
       "    <tr>\n",
       "      <th>CarrosGaragem</th>\n",
       "      <td>0.626678</td>\n",
       "    </tr>\n",
       "    <tr>\n",
       "      <th>AreaGaragem</th>\n",
       "      <td>0.608056</td>\n",
       "    </tr>\n",
       "    <tr>\n",
       "      <th>PrecoVenda</th>\n",
       "      <td>1.000000</td>\n",
       "    </tr>\n",
       "  </tbody>\n",
       "</table>\n",
       "</div>"
      ],
      "text/plain": [
       "                PrecoVenda\n",
       "Qualidade         0.786850\n",
       "AreaPorao         0.628819\n",
       "AreaTerreo        0.610918\n",
       "AreaConstruida    0.744517\n",
       "CarrosGaragem     0.626678\n",
       "AreaGaragem       0.608056\n",
       "PrecoVenda        1.000000"
      ]
     },
     "execution_count": 63,
     "metadata": {},
     "output_type": "execute_result"
    }
   ],
   "source": [
    "df_temp = pd.get_dummies(df)\n",
    "\n",
    "# Identificando variáveis com maiores correlações\n",
    "df_corr = df_temp.corr()\n",
    "df_corr = pd.DataFrame(df_corr['PrecoVenda'])\n",
    "df_corr = df_corr[df_corr['PrecoVenda']>0.6]\n",
    "\n",
    "df_corr"
   ]
  },
  {
   "cell_type": "code",
   "execution_count": 64,
   "metadata": {},
   "outputs": [],
   "source": [
    "principal_vars = df_corr.index"
   ]
  },
  {
   "cell_type": "code",
   "execution_count": 65,
   "metadata": {},
   "outputs": [],
   "source": [
    "del df_corr\n",
    "del df_temp"
   ]
  },
  {
   "cell_type": "markdown",
   "metadata": {},
   "source": [
    "### Regressão Usando Statsmodels"
   ]
  },
  {
   "cell_type": "code",
   "execution_count": 66,
   "metadata": {},
   "outputs": [
    {
     "name": "stdout",
     "output_type": "stream",
     "text": [
      "                            OLS Regression Results                            \n",
      "==============================================================================\n",
      "Dep. Variable:             PrecoVenda   R-squared:                       0.814\n",
      "Model:                            OLS   Adj. R-squared:                  0.813\n",
      "Method:                 Least Squares   F-statistic:                     869.4\n",
      "Date:                Tue, 23 Aug 2022   Prob (F-statistic):               0.00\n",
      "Time:                        20:57:35   Log-Likelihood:                -14052.\n",
      "No. Observations:                1198   AIC:                         2.812e+04\n",
      "Df Residuals:                    1191   BIC:                         2.815e+04\n",
      "Df Model:                           6                                         \n",
      "Covariance Type:            nonrobust                                         \n",
      "==================================================================================\n",
      "                     coef    std err          t      P>|t|      [0.025      0.975]\n",
      "----------------------------------------------------------------------------------\n",
      "Intercept      -9.072e+04   4366.315    -20.777      0.000   -9.93e+04   -8.22e+04\n",
      "Qualidade       1.999e+04    938.438     21.298      0.000    1.81e+04    2.18e+04\n",
      "AreaPorao         36.9459      3.755      9.838      0.000      29.578      44.314\n",
      "AreaTerreo         6.5087      4.370      1.489      0.137      -2.065      15.082\n",
      "AreaConstruida    49.9497      2.390     20.900      0.000      45.261      54.639\n",
      "CarrosGaragem   6033.3435   2680.596      2.251      0.025     774.127    1.13e+04\n",
      "AreaGaragem       34.0479      9.299      3.661      0.000      15.804      52.292\n",
      "==============================================================================\n",
      "Omnibus:                      400.749   Durbin-Watson:                   1.947\n",
      "Prob(Omnibus):                  0.000   Jarque-Bera (JB):             5104.673\n",
      "Skew:                           1.174   Prob(JB):                         0.00\n",
      "Kurtosis:                      12.836   Cond. No.                     1.15e+04\n",
      "==============================================================================\n",
      "\n",
      "Notes:\n",
      "[1] Standard Errors assume that the covariance matrix of the errors is correctly specified.\n",
      "[2] The condition number is large, 1.15e+04. This might indicate that there are\n",
      "strong multicollinearity or other numerical problems.\n"
     ]
    }
   ],
   "source": [
    "# Modelo\n",
    "model = smf.ols(\n",
    "    formula= 'PrecoVenda ~ Qualidade + AreaPorao + AreaTerreo + AreaConstruida + CarrosGaragem + AreaGaragem',\n",
    "    data=df\n",
    ")\n",
    "\n",
    "#Resultados\n",
    "results = model.fit()\n",
    "print(results.summary())"
   ]
  },
  {
   "cell_type": "code",
   "execution_count": 67,
   "metadata": {},
   "outputs": [],
   "source": [
    "# Usando Transformação Logarítimica\n",
    "\n",
    "dflog = df\n",
    "dflog['PrecoVenda'] = np.log(dflog['PrecoVenda'])"
   ]
  },
  {
   "cell_type": "code",
   "execution_count": 68,
   "metadata": {},
   "outputs": [
    {
     "name": "stdout",
     "output_type": "stream",
     "text": [
      "                            OLS Regression Results                            \n",
      "==============================================================================\n",
      "Dep. Variable:             PrecoVenda   R-squared:                       0.833\n",
      "Model:                            OLS   Adj. R-squared:                  0.832\n",
      "Method:                 Least Squares   F-statistic:                     991.1\n",
      "Date:                Tue, 23 Aug 2022   Prob (F-statistic):               0.00\n",
      "Time:                        20:57:36   Log-Likelihood:                 574.46\n",
      "No. Observations:                1198   AIC:                            -1135.\n",
      "Df Residuals:                    1191   BIC:                            -1099.\n",
      "Df Model:                           6                                         \n",
      "Covariance Type:            nonrobust                                         \n",
      "==================================================================================\n",
      "                     coef    std err          t      P>|t|      [0.025      0.975]\n",
      "----------------------------------------------------------------------------------\n",
      "Intercept         10.5862      0.022    486.260      0.000      10.543      10.629\n",
      "Qualidade          0.1124      0.005     24.028      0.000       0.103       0.122\n",
      "AreaPorao          0.0002   1.87e-05     10.032      0.000       0.000       0.000\n",
      "AreaTerreo       1.88e-05   2.18e-05      0.863      0.388   -2.39e-05    6.16e-05\n",
      "AreaConstruida     0.0002   1.19e-05     19.668      0.000       0.000       0.000\n",
      "CarrosGaragem      0.0607      0.013      4.544      0.000       0.035       0.087\n",
      "AreaGaragem        0.0002   4.64e-05      3.524      0.000    7.24e-05       0.000\n",
      "==============================================================================\n",
      "Omnibus:                      195.304   Durbin-Watson:                   1.982\n",
      "Prob(Omnibus):                  0.000   Jarque-Bera (JB):              509.755\n",
      "Skew:                          -0.863   Prob(JB):                    2.03e-111\n",
      "Kurtosis:                       5.689   Cond. No.                     1.15e+04\n",
      "==============================================================================\n",
      "\n",
      "Notes:\n",
      "[1] Standard Errors assume that the covariance matrix of the errors is correctly specified.\n",
      "[2] The condition number is large, 1.15e+04. This might indicate that there are\n",
      "strong multicollinearity or other numerical problems.\n"
     ]
    }
   ],
   "source": [
    "# Modelo\n",
    "model_log = smf.ols(\n",
    "    formula= 'PrecoVenda ~ Qualidade + AreaPorao + AreaTerreo + AreaConstruida + CarrosGaragem + AreaGaragem',\n",
    "    data=dflog\n",
    ")\n",
    "\n",
    "#Resultados\n",
    "results_log = model_log.fit()\n",
    "print(results_log.summary())"
   ]
  },
  {
   "cell_type": "markdown",
   "metadata": {},
   "source": [
    "Como os resultados foram melhores, seguiremos com a variável de interesse transformada\n",
    "### Comparando com o SKLEARN"
   ]
  },
  {
   "cell_type": "code",
   "execution_count": 69,
   "metadata": {},
   "outputs": [],
   "source": [
    "dflog = dflog[principal_vars]\n",
    "df_sklearn = pd.get_dummies(dflog.fillna(np.mean),drop_first=True)\n"
   ]
  },
  {
   "cell_type": "code",
   "execution_count": 70,
   "metadata": {},
   "outputs": [],
   "source": [
    "# Criando a equação do modelo\n",
    "\n",
    "# No SKLEARN passamos 2 parâmetros\n",
    "# X = DataFrame com variáveis explicativas\n",
    "# y = Variável Resposta\n",
    "\n",
    "lr = linear_model.LinearRegression()\n",
    "predicted = lr.fit(X=df_sklearn, y=df_sklearn.PrecoVenda)"
   ]
  },
  {
   "cell_type": "code",
   "execution_count": 71,
   "metadata": {},
   "outputs": [
    {
     "data": {
      "text/html": [
       "<div>\n",
       "<style scoped>\n",
       "    .dataframe tbody tr th:only-of-type {\n",
       "        vertical-align: middle;\n",
       "    }\n",
       "\n",
       "    .dataframe tbody tr th {\n",
       "        vertical-align: top;\n",
       "    }\n",
       "\n",
       "    .dataframe thead th {\n",
       "        text-align: right;\n",
       "    }\n",
       "</style>\n",
       "<table border=\"1\" class=\"dataframe\">\n",
       "  <thead>\n",
       "    <tr style=\"text-align: right;\">\n",
       "      <th></th>\n",
       "      <th>coef</th>\n",
       "    </tr>\n",
       "  </thead>\n",
       "  <tbody>\n",
       "    <tr>\n",
       "      <th>intercept</th>\n",
       "      <td>1.598721e-14</td>\n",
       "    </tr>\n",
       "    <tr>\n",
       "      <th>Qualidade</th>\n",
       "      <td>-1.776152e-15</td>\n",
       "    </tr>\n",
       "    <tr>\n",
       "      <th>AreaPorao</th>\n",
       "      <td>6.299215e-17</td>\n",
       "    </tr>\n",
       "    <tr>\n",
       "      <th>AreaTerreo</th>\n",
       "      <td>-6.155558e-17</td>\n",
       "    </tr>\n",
       "    <tr>\n",
       "      <th>AreaConstruida</th>\n",
       "      <td>2.314772e-17</td>\n",
       "    </tr>\n",
       "    <tr>\n",
       "      <th>CarrosGaragem</th>\n",
       "      <td>2.043397e-14</td>\n",
       "    </tr>\n",
       "    <tr>\n",
       "      <th>AreaGaragem</th>\n",
       "      <td>-1.594319e-16</td>\n",
       "    </tr>\n",
       "    <tr>\n",
       "      <th>PrecoVenda</th>\n",
       "      <td>1.000000e+00</td>\n",
       "    </tr>\n",
       "  </tbody>\n",
       "</table>\n",
       "</div>"
      ],
      "text/plain": [
       "                        coef\n",
       "intercept       1.598721e-14\n",
       "Qualidade      -1.776152e-15\n",
       "AreaPorao       6.299215e-17\n",
       "AreaTerreo     -6.155558e-17\n",
       "AreaConstruida  2.314772e-17\n",
       "CarrosGaragem   2.043397e-14\n",
       "AreaGaragem    -1.594319e-16\n",
       "PrecoVenda      1.000000e+00"
      ]
     },
     "execution_count": 71,
     "metadata": {},
     "output_type": "execute_result"
    }
   ],
   "source": [
    "# Obtendo os coeficientes\n",
    "values = np.append(predicted.intercept_,predicted.coef_)\n",
    "\n",
    "# Obtem os nomes das colunas \n",
    "names = np.append('intercept', df_sklearn.columns)\n",
    "\n",
    "# Cria um DataFrame com os resultados\n",
    "results = pd.DataFrame(\n",
    "    values, index=names,\n",
    "    columns=['coef']\n",
    ")\n",
    "\n",
    "results"
   ]
  },
  {
   "cell_type": "code",
   "execution_count": 72,
   "metadata": {},
   "outputs": [
    {
     "data": {
      "text/html": [
       "<div>\n",
       "<style scoped>\n",
       "    .dataframe tbody tr th:only-of-type {\n",
       "        vertical-align: middle;\n",
       "    }\n",
       "\n",
       "    .dataframe tbody tr th {\n",
       "        vertical-align: top;\n",
       "    }\n",
       "\n",
       "    .dataframe thead th {\n",
       "        text-align: right;\n",
       "    }\n",
       "</style>\n",
       "<table border=\"1\" class=\"dataframe\">\n",
       "  <thead>\n",
       "    <tr style=\"text-align: right;\">\n",
       "      <th></th>\n",
       "      <th>Qualidade</th>\n",
       "      <th>AreaPorao</th>\n",
       "      <th>AreaTerreo</th>\n",
       "      <th>AreaConstruida</th>\n",
       "      <th>CarrosGaragem</th>\n",
       "      <th>AreaGaragem</th>\n",
       "      <th>PrecoVenda</th>\n",
       "      <th>predicted</th>\n",
       "    </tr>\n",
       "  </thead>\n",
       "  <tbody>\n",
       "    <tr>\n",
       "      <th>0</th>\n",
       "      <td>7</td>\n",
       "      <td>856</td>\n",
       "      <td>856</td>\n",
       "      <td>1710</td>\n",
       "      <td>2</td>\n",
       "      <td>548</td>\n",
       "      <td>12.247694</td>\n",
       "      <td>12.247694</td>\n",
       "    </tr>\n",
       "    <tr>\n",
       "      <th>1</th>\n",
       "      <td>6</td>\n",
       "      <td>1262</td>\n",
       "      <td>1262</td>\n",
       "      <td>1262</td>\n",
       "      <td>2</td>\n",
       "      <td>460</td>\n",
       "      <td>12.109011</td>\n",
       "      <td>12.109011</td>\n",
       "    </tr>\n",
       "    <tr>\n",
       "      <th>2</th>\n",
       "      <td>7</td>\n",
       "      <td>920</td>\n",
       "      <td>920</td>\n",
       "      <td>1786</td>\n",
       "      <td>2</td>\n",
       "      <td>608</td>\n",
       "      <td>12.317167</td>\n",
       "      <td>12.317167</td>\n",
       "    </tr>\n",
       "    <tr>\n",
       "      <th>4</th>\n",
       "      <td>8</td>\n",
       "      <td>1145</td>\n",
       "      <td>1145</td>\n",
       "      <td>2198</td>\n",
       "      <td>3</td>\n",
       "      <td>836</td>\n",
       "      <td>12.429216</td>\n",
       "      <td>11.870600</td>\n",
       "    </tr>\n",
       "    <tr>\n",
       "      <th>5</th>\n",
       "      <td>5</td>\n",
       "      <td>796</td>\n",
       "      <td>796</td>\n",
       "      <td>1362</td>\n",
       "      <td>2</td>\n",
       "      <td>480</td>\n",
       "      <td>11.870600</td>\n",
       "      <td>12.634603</td>\n",
       "    </tr>\n",
       "  </tbody>\n",
       "</table>\n",
       "</div>"
      ],
      "text/plain": [
       "   Qualidade  AreaPorao  AreaTerreo  AreaConstruida  CarrosGaragem  \\\n",
       "0          7        856         856            1710              2   \n",
       "1          6       1262        1262            1262              2   \n",
       "2          7        920         920            1786              2   \n",
       "4          8       1145        1145            2198              3   \n",
       "5          5        796         796            1362              2   \n",
       "\n",
       "   AreaGaragem  PrecoVenda  predicted  \n",
       "0          548   12.247694  12.247694  \n",
       "1          460   12.109011  12.109011  \n",
       "2          608   12.317167  12.317167  \n",
       "4          836   12.429216  11.870600  \n",
       "5          480   11.870600  12.634603  "
      ]
     },
     "execution_count": 72,
     "metadata": {},
     "output_type": "execute_result"
    }
   ],
   "source": [
    "df_predicted = predicted.predict(df_sklearn)\n",
    "df_predicted = pd.DataFrame(df_predicted)\n",
    "\n",
    "df_sklearn['predicted'] = df_predicted\n",
    "\n",
    "df_sklearn.head()"
   ]
  },
  {
   "cell_type": "code",
   "execution_count": 73,
   "metadata": {},
   "outputs": [
    {
     "data": {
      "image/png": "[encoded data removed]",
      "text/plain": [
       "<Figure size 1280x640 with 1 Axes>"
      ]
     },
     "metadata": {
      "needs_background": "light"
     },
     "output_type": "display_data"
    }
   ],
   "source": [
    "sns.set_theme(style='darkgrid')\n",
    "plt.figure(figsize=[16,8],dpi=80)\n",
    "sns.scatterplot(x=df_sklearn.index, y= df_sklearn.predicted - df_sklearn.PrecoVenda)\n",
    "plt.axhline(color='red', alpha= 0.8, zorder=-1)\n",
    "plt.show()"
   ]
  }
 ],
 "metadata": {
  "kernelspec": {
   "display_name": "Python 3.9.0 64-bit",
   "language": "python",
   "name": "python3"
  },
  "language_info": {
   "codemirror_mode": {
    "name": "ipython",
    "version": 3
   },
   "file_extension": ".py",
   "mimetype": "text/x-python",
   "name": "python",
   "nbconvert_exporter": "python",
   "pygments_lexer": "ipython3",
   "version": "3.9.0"
  },
  "orig_nbformat": 4,
  "vscode": {
   "interpreter": {
    "hash": "ecc01959a3fa6e370fa1785e6cca03f3405a3d40925e8097c2a14ac91635be9e"
   }
  }
 },
 "nbformat": 4,
 "nbformat_minor": 2
}
